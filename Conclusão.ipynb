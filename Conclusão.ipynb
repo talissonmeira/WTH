{
 "cells": [
  {
   "cell_type": "markdown",
   "id": "c4390e45",
   "metadata": {},
   "source": [
    "# Conclusão"
   ]
  },
  {
   "cell_type": "markdown",
   "id": "daed1675",
   "metadata": {},
   "source": [
    "Estrutura da conclusão: \n",
    "* gráficos finais para terminar a ideia\n",
    "* o que os dados nos indicaram (conclusão)\n",
    "* o que os dados não conseguem nos mostrar\n",
    "* que dados e que processos poderiam ser adicionados para melhorar a análise"
   ]
  },
  {
   "cell_type": "code",
   "execution_count": null,
   "id": "2311f1c7",
   "metadata": {},
   "outputs": [],
   "source": []
  }
 ],
 "metadata": {
  "kernelspec": {
   "display_name": "Python 3 (ipykernel)",
   "language": "python",
   "name": "python3"
  },
  "language_info": {
   "codemirror_mode": {
    "name": "ipython",
    "version": 3
   },
   "file_extension": ".py",
   "mimetype": "text/x-python",
   "name": "python",
   "nbconvert_exporter": "python",
   "pygments_lexer": "ipython3",
   "version": "3.9.12"
  }
 },
 "nbformat": 4,
 "nbformat_minor": 5
}
