{
 "cells": [
  {
   "cell_type": "markdown",
   "id": "7cb0dbdb",
   "metadata": {},
   "source": [
    " #                                         Introdução"
   ]
  },
  {
   "cell_type": "markdown",
   "id": "55a5f862",
   "metadata": {},
   "source": [
    "   O presente trabalho baseia-se na hipótese de que os níveis de abertura comercial de um país têm relação direta com a qualidade de vida de sua população. Isso é, quanto mais facilitada são as relações comerciais com o exterior, melhores serão os índices que medem o bem-estar populacional, como, por exemplo, o IDH (Índice de Desenvolvimento Humano). Assim, todos os dados que serão apresentados ao longo desse estudo visam obter conclusões, sejam elas positivas ou negativas, a respeito dessa hipótese. <br>\n",
    "   <br>\n",
    "      Em primeira análise, é necesário definir o que é um país aberto econômicamente ou não. A abertura comercial diz respeito à  retirada de barreiras, sejam elas tarifárias ou não, para que um país mantenha relações econômicas com o exterior. Em um contexto de globalização e intensa divisão internacional do trabalho, torna-se impossível que um estado nacional não mantenha nenhum tipo de comércio com outros países. Todavia, essas relações podem ser mais facilitadas, ou não, a depender da política econômica governamental. Um exemplo de país econoômicamente aberto, de acordo com dados do ano de 2021, é Singapura, enquanto um exemplo de país econômicamente fechado é a Argélia. <br>\n",
    "      <br>\n",
    "      De forma mais formal, a hipótese é uma tentativa de extrapolar a ideia microeconômica de que o livre mercado no seu preço e quantidade de equilíbrio proporciona a maior otimização do bem estar social, de forma que em uma escala internacional o livre mercado impulsionaria o desenvenvolvimento das nações.\n",
    " "
   ]
  },
  {
   "attachments": {},
   "cell_type": "markdown",
   "id": "f1bd99ae",
   "metadata": {},
   "source": [
    "<img src=\"https://fsev.files.wordpress.com/2010/12/supply-demand.jpg\" />\n",
    "\n",
    "\n",
    "\n"
   ]
  },
  {
   "cell_type": "markdown",
   "id": "81f45ae2",
   "metadata": {},
   "source": [
    "Em segunda análise, nos cabe entender a relevância do assunto para o debate econômico. As discussões acerca da política industrial e a intervenção governamental em um país ganham força com o Liberalismo, corrente teórico-política que surge em meados do século XVII. Em um contexto de absolutismo e mercantilismo na Europa e suas colônias, as economias nacionais eram orientadas pelo protecionismo comercial. Surge então, uma corrente que defende uma menor intervenção do governo na economia, incluindo no comércio exterior, e que está no debate até os dias atuais. <br>\n",
    "<br>\n",
    "Desde então, o assunto tem sido alvo de disputa entre diversas correntes teóricas da economia. Por um lado, há quem defenda que a diminuiçao ou eliminação das barreiras econômicas de um país é benéfico para o estimulo da produção e bem estar social de sua população (caso esse que abordaremos no presente trabalho). Por outro lado, há quem advogue que a abertura econômica é prejudicial para nações que não estão no centro do capitalismo, dado que prejudicam as industrias nacionais com a entrada de produtos importados, trazendo assim um menor desenvolvimento para alguns países."
   ]
  },
  {
   "cell_type": "markdown",
   "id": "fccd3faa",
   "metadata": {},
   "source": [
    "<img src=\"https://www.bilaterals.org/IMG/jpg/8-20tpprally4.jpg\" />\n",
    "\n"
   ]
  },
  {
   "cell_type": "markdown",
   "id": "8df89962",
   "metadata": {},
   "source": [
    "No contexto atual, a discussão perpassa pela existência dos chamados \"Tigres Asiáticos\". Os Tigres Asiáticos são um pequeno conjunto de países, dentre eles Coréia do Sul, Hong Kong, Taiwan, Japão e Singapura, que alcançaram consistentes e sólidos  índices de desenvolvimento econômico ao facilitarem os investimentos privados em seus países. Dessa forma, a existência e ascensão dos Tigres Asiáticos saltou aos olhos de quem busca o desenvolvimento pois são exemplos extremamente recentes de milagres ecônomicos que embarcaram no mercado internacional para aumentar o poder de produção do país, mas esse aumento de produção vem ligado a um desenvolvimento humano? É o que vamos tentar descobrir a partir da segunda parte, comparando diversos países do mundo, observando sua abertura comercial e seu IDH (em inglês HDI)."
   ]
  },
  {
   "cell_type": "markdown",
   "id": "43f0695d",
   "metadata": {},
   "source": [
    "<img src=\"https://upload.wikimedia.org/wikipedia/commons/thumb/2/2c/Four_Tigers_GDP_per_capita.svg/440px-Four_Tigers_GDP_per_capita.svg.png\" />\n",
    "\n"
   ]
  }
 ],
 "metadata": {
  "kernelspec": {
   "display_name": "Python 3 (ipykernel)",
   "language": "python",
   "name": "python3"
  },
  "language_info": {
   "codemirror_mode": {
    "name": "ipython",
    "version": 3
   },
   "file_extension": ".py",
   "mimetype": "text/x-python",
   "name": "python",
   "nbconvert_exporter": "python",
   "pygments_lexer": "ipython3",
   "version": "3.9.12"
  }
 },
 "nbformat": 4,
 "nbformat_minor": 5
}
