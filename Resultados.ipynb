{
 "cells": [
  {
   "cell_type": "markdown",
   "id": "04c7933b",
   "metadata": {},
   "source": [
    "# Resultados\n"
   ]
  },
  {
   "cell_type": "markdown",
   "id": "4388f70f",
   "metadata": {},
   "source": [
    "Estrutura dos resultados:\n",
    "* regressão linear (provavelmente muito extenso)\n",
    "* outras estatísticas mais simples (média, variância, outliers e etc) para análise conjunta"
   ]
  },
  {
   "cell_type": "code",
   "execution_count": null,
   "id": "2598a762",
   "metadata": {},
   "outputs": [],
   "source": []
  }
 ],
 "metadata": {
  "kernelspec": {
   "display_name": "Python 3 (ipykernel)",
   "language": "python",
   "name": "python3"
  },
  "language_info": {
   "codemirror_mode": {
    "name": "ipython",
    "version": 3
   },
   "file_extension": ".py",
   "mimetype": "text/x-python",
   "name": "python",
   "nbconvert_exporter": "python",
   "pygments_lexer": "ipython3",
   "version": "3.9.12"
  }
 },
 "nbformat": 4,
 "nbformat_minor": 5
}
